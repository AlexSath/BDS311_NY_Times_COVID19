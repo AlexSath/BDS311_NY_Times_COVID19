{
 "cells": [
  {
   "cell_type": "markdown",
   "id": "applied-israel",
   "metadata": {},
   "source": [
    "## Question 2: Working collaboratively with Git and Github (30 pts)\n",
    "In this exercise, you will work collaboratively to write analysis and plotting routines that use data from the New York Times Covid-19 data repository.\n",
    "The final goal is to make three plots akin to  this one. One plot will have the three states with lowest average<br>\n",
    "<img src='states.svg' width=\"500px\" /><br>\n",
    "To do this, I would like you to collaboratively write the four functions defined in covid_plot.py.\n",
    "One member of your group should start by creating a new repository titled covid_plotting on GitHub and invite the other members of the group as collaborators. This repository should include a copy of `covid_plot.py`, which you will work on together. <br> \n",
    "Each member of the group should have a local git repository (equivalent to `mauna_loa`) which will be linked to the central single Github repository.\n",
    "\n",
    "Your analysis should be based on the csv file in our file server `/home/shared_data/covid-19-data/rolling-averages/us-states.csv`. Note that I cloned the `covid-19-data` directory (via a `git clone` command) from the [New York Times Covid-19 Github repository](https://github.com/nytimes/covid-19-data)\n",
    "\n",
    "I want your group to make an .ipynb file that that plots\n",
    "- the rolling average of the new cases per 100K for three states that you specify. Note that the key data is in the `cases_avg_per_100k` column.\n",
    "- the rolling average of new cases per 100K for the three states with the *lowest* overall covid cases per 100k. Lowest is defined as the lowest mean, averaging across all recorded days. (You should use the `groupby.agg` functionality we previously used to calculate this as well as the Pandas `sort_values` method\n",
    "- the rolling average for the three states with the *highest* overall covid cases per 100K.\n",
    "\n",
    "\n",
    "The .ipynb file chosuld contain the following lines (or something close to this), \n",
    "````\n",
    "#Code that should make plot\n",
    "import covid_plot\n",
    "df=covid_plot.read_in_data(filename)\n",
    "low_states,high_states=covid_plot.get_extreme_states(df)\n",
    "\n",
    "#Choose any three states that you like\n",
    "states=['Oregon','California','Texas']\n",
    "ax,cr_state=covid_plot.make_plot(df,states)\n",
    "covid_plot.modify_plot(ax)\n",
    "ax,cr_state=covid_plot.make_plot(df,low_states)\n",
    "covid_plot.modify_plot(ax)\n",
    "ax,cr_state=covid_plot.make_plot(df,high_states)\n",
    "covid_plot.modify_plot(ax)\n",
    "```\n",
    "\n",
    "\n",
    "Your group should work together writing different functions on the `covid_plot.py` file, pulling and pushing commmits from the central repository. Note that the `make_plot` function depends on `read_in_data` but not on `get_extreme_states`, so functions can be written and tested in parallel. You should be able to work simultaneously and resolve any conflicts. \n",
    "I would like each member of the group to make some contribution (commit) to each function, even if it's inserting a comment. \n",
    "Your group's collective answer will be the github repository, which I will clone and test in class.\n",
    "Where is this Github repository?\n",
    "\n"
   ]
  },
  {
   "cell_type": "code",
   "execution_count": null,
   "id": "naval-parameter",
   "metadata": {},
   "outputs": [],
   "source": []
  },
  {
   "cell_type": "code",
   "execution_count": 17,
   "id": "aging-reserve",
   "metadata": {},
   "outputs": [
    {
     "data": {
      "text/plain": [
       "['Northern Mariana Islands', 'Hawaii', 'Virgin Islands']"
      ]
     },
     "execution_count": 17,
     "metadata": {},
     "output_type": "execute_result"
    }
   ],
   "source": [
    "import covid_plot\n",
    "df=covid_plot.read_in_data('/home/shared_data/covid-19-data/rolling-averages/us-states.csv')\n",
    "low_states,high_states=covid_plot.get_extreme_states(df,3)"
   ]
  },
  {
   "cell_type": "code",
   "execution_count": 15,
   "id": "crucial-spokesman",
   "metadata": {},
   "outputs": [
    {
     "data": {
      "text/plain": [
       "<module 'covid_plot' from '/home/horikkei/hw/hw07/BDS311_NY_Times_COVID19/covid_plot.py'>"
      ]
     },
     "execution_count": 15,
     "metadata": {},
     "output_type": "execute_result"
    }
   ],
   "source": [
    "#to reload covid_plot.py\n",
    "import importlib\n",
    "importlib.reload(covid_plot)"
   ]
  }
 ],
 "metadata": {
  "kernelspec": {
   "display_name": "Python 3",
   "language": "python",
   "name": "python3"
  },
  "language_info": {
   "codemirror_mode": {
    "name": "ipython",
    "version": 3
   },
   "file_extension": ".py",
   "mimetype": "text/x-python",
   "name": "python",
   "nbconvert_exporter": "python",
   "pygments_lexer": "ipython3",
   "version": "3.7.9"
  }
 },
 "nbformat": 4,
 "nbformat_minor": 5
}
