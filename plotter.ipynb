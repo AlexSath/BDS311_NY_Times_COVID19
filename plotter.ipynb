{
 "cells": [
  {
   "cell_type": "markdown",
   "id": "cardiac-birthday",
   "metadata": {},
   "source": [
    "According to hw07, this file should plot:\n",
    "- the rolling average of the new cases per 100K for three states that you specify. Note that the key data is in the `cases_avg_per_100k` column.\n",
    "- the rolling average of new cases per 100K for the three states with the *lowest* overall covid cases per 100k. Lowest is defined as the lowest mean, averaging across all recorded days. (You should use the `groupby.agg` functionality we previously used to calculate this as well as the Pandas `sort_values` method\n",
    "- the rolling average for the three states with the *highest* overall covid cases per 100K.\n",
    "    "
   ]
  },
  {
   "cell_type": "markdown",
   "id": "selective-hypothesis",
   "metadata": {},
   "source": [
    "The .ipynb file chosuld contain the following lines (or something close to this), \n",
    "```\n",
    "#Code that should make plot\n",
    "import covid_plot\n",
    "df=covid_plot.read_in_data(filename)\n",
    "low_states,high_states=covid_plot.get_extreme_states(df)\n",
    "\n",
    "#Choose any three states that you like\n",
    "states=['Oregon','California','Texas']\n",
    "ax,cr_state=covid_plot.make_plot(df,states)\n",
    "covid_plot.modify_plot(ax)\n",
    "ax,cr_state=covid_plot.make_plot(df,low_states)\n",
    "covid_plot.modify_plot(ax)\n",
    "ax,cr_state=covid_plot.make_plot(df,high_states)\n",
    "covid_plot.modify_plot(ax)\n",
    "```"
   ]
  },
  {
   "cell_type": "code",
   "execution_count": 86,
   "id": "basic-natural",
   "metadata": {},
   "outputs": [
    {
     "name": "stdout",
     "output_type": "stream",
     "text": [
      "[36    Northern Mariana Islands\n",
      "12                      Hawaii\n",
      "49              Virgin Islands\n",
      "48                     Vermont\n",
      "39                      Oregon\n",
      "Name: state, dtype: object]\n",
      "[35    North Dakota\n",
      "44    South Dakota\n",
      "42    Rhode Island\n",
      "47            Utah\n",
      "45       Tennessee\n",
      "Name: state, dtype: object]\n"
     ]
    }
   ],
   "source": [
    "import covid_plot\n",
    "df=covid_plot.read_in_data('/home/shared_data/covid-19-data/rolling-averages/us-states.csv')\n",
    "low_states,high_states=covid_plot.get_extreme_states(df,5)\n",
    "print(low_states)\n",
    "print(high_states)"
   ]
  },
  {
   "cell_type": "code",
   "execution_count": 82,
   "id": "urban-adventure",
   "metadata": {},
   "outputs": [
    {
     "data": {
      "text/plain": [
       "<module 'covid_plot' from '/home/horikkei/hw/hw07/BDS311_NY_Times_COVID19/covid_plot.py'>"
      ]
     },
     "execution_count": 82,
     "metadata": {},
     "output_type": "execute_result"
    }
   ],
   "source": [
    "import importlib\n",
    "importlib.reload(covid_plot)"
   ]
  }
 ],
 "metadata": {
  "kernelspec": {
   "display_name": "Python 3",
   "language": "python",
   "name": "python3"
  },
  "language_info": {
   "codemirror_mode": {
    "name": "ipython",
    "version": 3
   },
   "file_extension": ".py",
   "mimetype": "text/x-python",
   "name": "python",
   "nbconvert_exporter": "python",
   "pygments_lexer": "ipython3",
   "version": "3.7.9"
  }
 },
 "nbformat": 4,
 "nbformat_minor": 5
}
